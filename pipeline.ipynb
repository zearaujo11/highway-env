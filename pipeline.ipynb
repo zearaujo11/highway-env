{
 "cells": [
  {
   "cell_type": "markdown",
   "metadata": {},
   "source": [
    "# RL for Autonomous Vehicle Tasks: Safety and Traffic Optimization"
   ]
  },
  {
   "cell_type": "markdown",
   "metadata": {},
   "source": [
    "## Agents"
   ]
  },
  {
   "cell_type": "code",
   "execution_count": null,
   "metadata": {},
   "outputs": [],
   "source": [
    "# TODO: define agents here"
   ]
  },
  {
   "cell_type": "markdown",
   "metadata": {},
   "source": [
    "## Scenarios"
   ]
  },
  {
   "cell_type": "code",
   "execution_count": 129,
   "metadata": {},
   "outputs": [],
   "source": [
    "import gymnasium\n",
    "import highway_env\n",
    "from matplotlib import pyplot as plt\n",
    "%matplotlib inline\n",
    "from stable_baselines3 import DQN\n",
    "from stable_baselines3.common.monitor import Monitor\n",
    "import logging\n",
    "import json\n",
    "import os\n",
    "import numpy as np"
   ]
  },
  {
   "cell_type": "markdown",
   "metadata": {},
   "source": [
    "### Lane Changing"
   ]
  },
  {
   "cell_type": "code",
   "execution_count": 4,
   "metadata": {},
   "outputs": [
    {
     "data": {
      "text/plain": [
       "(array([[ 1.        ,  0.9026946 ,  0.75      ,  0.3125    ,  0.        ],\n",
       "        [ 1.        ,  0.09810572, -0.75      , -0.03643593,  0.        ],\n",
       "        [ 1.        ,  0.2060501 , -0.5       , -0.01889157,  0.        ],\n",
       "        [ 1.        ,  0.3165085 , -0.75      , -0.01931337,  0.        ],\n",
       "        [ 1.        ,  0.43092677,  0.        , -0.01856169,  0.        ]],\n",
       "       dtype=float32),\n",
       " {'speed': 25,\n",
       "  'crashed': False,\n",
       "  'action': 6,\n",
       "  'rewards': {'collision_reward': 0.0,\n",
       "   'right_lane_reward': 1.0,\n",
       "   'high_speed_reward': 0.75,\n",
       "   'on_road_reward': 1.0}})"
      ]
     },
     "execution_count": 4,
     "metadata": {},
     "output_type": "execute_result"
    }
   ],
   "source": [
    "lane_changing_env = gymnasium.make('highway-v0', render_mode='rgb_array')\n",
    "config = {\n",
    "    \"vehicles_count\": 50,  # Number of vehicles in the environment\n",
    "    \"controlled_vehicles\": 1,  # Number of vehicles controlled by the agent\n",
    "    \"duration\": 40,  # Duration of each episode\n",
    "    \"reverse_penalty\": -10,  # Large penalty for reversing\n",
    "    \"drifting_penalty\": -5,  # Penalty for drifting or sharp turns\n",
    "    \"collision_reward\": -2,  # Stronger penalty for collisions\n",
    "    \"off_road_penalty\": -10,  # Penalize for going off-road\n",
    "    \"lane_change_reward\": 0.1,  # Reward for staying in lane\n",
    "    \"reward_speed_range\": [10, 30],  # Reward only within this speed range\n",
    "    \"simulation_frequency\": 15,  # Lower simulation speed to avoid erratic behavior\n",
    "    \"policy_frequency\": 1,  # Fewer policy updates per second\n",
    "    \"screen_width\": 600,\n",
    "    \"screen_height\": 400,\n",
    "    \"offscreen_rendering\": False,\n",
    "    \"show_trajectories\": True,\n",
    "    \"action\": {\n",
    "        \"type\": \"DiscreteAction\"  # Discrete control (steer left, right, accelerate)\n",
    "    },\n",
    "}\n",
    "\n",
    "lane_changing_env.unwrapped.configure(config)\n",
    "lane_changing_env.reset()"
   ]
  },
  {
   "cell_type": "markdown",
   "metadata": {},
   "source": [
    "### Roundabout"
   ]
  },
  {
   "cell_type": "code",
   "execution_count": 5,
   "metadata": {},
   "outputs": [
    {
     "data": {
      "text/plain": [
       "(array([[ 1.0000000e+00,  2.0000000e-02,  4.4999999e-01,  0.0000000e+00,\n",
       "         -5.3333336e-01],\n",
       "        [ 1.0000000e+00, -4.1614782e-02,  1.9562262e-01,  7.7160704e-01,\n",
       "          1.6414389e-01],\n",
       "        [ 1.0000000e+00, -1.9581525e-01,  1.3876739e-01,  6.6368437e-01,\n",
       "          9.3652779e-01],\n",
       "        [ 1.0000000e+00,  1.0000000e+00, -2.0000000e-02, -1.0000000e+00,\n",
       "          2.2204460e-16],\n",
       "        [ 1.0000000e+00, -1.7001514e-01, -1.0533209e-01, -5.4396957e-01,\n",
       "          8.7801415e-01]], dtype=float32),\n",
       " {'speed': 8,\n",
       "  'crashed': False,\n",
       "  'action': 8,\n",
       "  'rewards': {'collision_reward': False,\n",
       "   'high_speed_reward': 0.0,\n",
       "   'lane_change_reward': False,\n",
       "   'on_road_reward': True}})"
      ]
     },
     "execution_count": 5,
     "metadata": {},
     "output_type": "execute_result"
    }
   ],
   "source": [
    "roundabout_env = gymnasium.make('roundabout-v0', render_mode='rgb_array')\n",
    "config = {\n",
    "    \"vehicles_count\": 50,  # Number of vehicles in the environment\n",
    "    \"controlled_vehicles\": 1,  # Number of vehicles controlled by the agent\n",
    "    \"duration\": 40,  # Duration of each episode\n",
    "    \"reverse_penalty\": -10,  # Large penalty for reversing\n",
    "    \"drifting_penalty\": -5,  # Penalty for drifting or sharp turns\n",
    "    \"collision_reward\": -2,  # Stronger penalty for collisions\n",
    "    \"off_road_penalty\": -10,  # Penalize for going off-road\n",
    "    \"lane_change_reward\": 0.1,  # Reward for staying in lane\n",
    "    \"reward_speed_range\": [10, 30],  # Reward only within this speed range\n",
    "    \"simulation_frequency\": 15,  # Lower simulation speed to avoid erratic behavior\n",
    "    \"policy_frequency\": 1,  # Fewer policy updates per second\n",
    "    \"screen_width\": 600,\n",
    "    \"screen_height\": 400,\n",
    "    \"offscreen_rendering\": False,\n",
    "    \"show_trajectories\": True,\n",
    "    \"action\": {\n",
    "        \"type\": \"DiscreteAction\"  # Discrete control (steer left, right, accelerate)\n",
    "    },\n",
    "}\n",
    "roundabout_env.unwrapped.configure(config)\n",
    "roundabout_env.reset()"
   ]
  },
  {
   "cell_type": "markdown",
   "metadata": {},
   "source": [
    "### Overtaking"
   ]
  },
  {
   "cell_type": "code",
   "execution_count": 6,
   "metadata": {},
   "outputs": [
    {
     "data": {
      "text/plain": [
       "(array([[ 1.        ,  0.8956426 ,  0.        ,  0.3125    ,  0.        ],\n",
       "        [ 1.        ,  0.09184396,  0.75      , -0.04517423,  0.        ],\n",
       "        [ 1.        ,  0.19276139,  0.25      , -0.01343443,  0.        ],\n",
       "        [ 1.        ,  0.29735085,  0.25      , -0.02435903,  0.        ],\n",
       "        [ 1.        ,  0.40706015,  0.        , -0.0261277 ,  0.        ]],\n",
       "       dtype=float32),\n",
       " {'speed': 25,\n",
       "  'crashed': False,\n",
       "  'action': 7,\n",
       "  'rewards': {'collision_reward': 0.0,\n",
       "   'right_lane_reward': 0.0,\n",
       "   'high_speed_reward': 0.75,\n",
       "   'on_road_reward': 1.0}})"
      ]
     },
     "execution_count": 6,
     "metadata": {},
     "output_type": "execute_result"
    }
   ],
   "source": [
    "overtaking_env = gymnasium.make('highway-v0', render_mode='rgb_array')\n",
    "config = {\n",
    "    \"vehicles_count\": 50,  # Number of vehicles in the environment\n",
    "    \"controlled_vehicles\": 1,  # Number of vehicles controlled by the agent\n",
    "    \"duration\": 40,  # Duration of each episode\n",
    "    \"reverse_penalty\": -10,  # Large penalty for reversing\n",
    "    \"drifting_penalty\": -5,  # Penalty for drifting or sharp turns\n",
    "    \"collision_reward\": -2,  # Stronger penalty for collisions\n",
    "    \"off_road_penalty\": -10,  # Penalize for going off-road\n",
    "    \"lane_change_reward\": 0.1,  # Reward for staying in lane\n",
    "    \"reward_speed_range\": [10, 30],  # Reward only within this speed range\n",
    "    \"simulation_frequency\": 15,  # Lower simulation speed to avoid erratic behavior\n",
    "    \"policy_frequency\": 1,  # Fewer policy updates per second\n",
    "    \"screen_width\": 600,\n",
    "    \"screen_height\": 400,\n",
    "    \"offscreen_rendering\": False,\n",
    "    \"show_trajectories\": True,\n",
    "    \"action\": {\n",
    "        \"type\": \"DiscreteAction\"  # Discrete control (steer left, right, accelerate)\n",
    "    },\n",
    "}\n",
    "overtaking_env.unwrapped.configure(config)\n",
    "overtaking_env.reset()"
   ]
  },
  {
   "cell_type": "markdown",
   "metadata": {},
   "source": [
    "## Training and Testing"
   ]
  },
  {
   "cell_type": "code",
   "execution_count": 7,
   "metadata": {},
   "outputs": [],
   "source": [
    "# Configure logging\n",
    "logging.basicConfig(level=logging.INFO, format='%(asctime)s - %(levelname)s - %(message)s')\n",
    "logger = logging.getLogger(__name__)\n",
    "\n",
    "def create_directory(path):\n",
    "    \"\"\"\n",
    "    Create directory if it doesn't exist\n",
    "    \n",
    "    Args:\n",
    "        path (str): Directory path to create\n",
    "    \"\"\"\n",
    "    try:\n",
    "        os.makedirs(path, exist_ok=True)\n",
    "        logger.info(f\"Directory created: {path}\")\n",
    "    except Exception as e:\n",
    "        logger.error(f\"Error creating directory {path}: {e}\")\n",
    "\n",
    "def save_pipeline_data(agent_name, stage, environment_name, data):\n",
    "    \"\"\"\n",
    "    Save pipeline stage data\n",
    "    \n",
    "    Args:\n",
    "        agent_name (str): Name of the RL agent\n",
    "        stage (str): Current pipeline stage\n",
    "        environment_name (str): Name of the environment\n",
    "        data (dict): Data to be saved\n",
    "    \"\"\"\n",
    "    create_directory(f\"results/{agent_name}\")\n",
    "    \n",
    "    try:\n",
    "        filename = f\"results/{agent_name}/{environment_name + \"_\" + stage}_data.json\"\n",
    "        with open(filename, 'w') as f:\n",
    "            json.dump(data, f, indent=4)\n",
    "        logger.info(f\"Data saved for {stage} in {environment_name}\")\n",
    "    except Exception as e:\n",
    "        logger.error(f\"Error saving data: {e}\")"
   ]
  },
  {
   "cell_type": "code",
   "execution_count": 134,
   "metadata": {},
   "outputs": [],
   "source": [
    "def train(agent, environment, agent_name, stage, environment_name, timesteps=100):\n",
    "    \"\"\"\n",
    "    Train the agent in a specific environment and save the model\n",
    "    \n",
    "    Args:\n",
    "        agent (sb3.BaseAlgorithm): RL agent to train\n",
    "        environment (gym.Env): Environment to train in\n",
    "        agent_name (str): Name of the agent\n",
    "        stage (str): Current pipeline stage\n",
    "        environment_name (str): Name of the environment\n",
    "        timesteps (int, optional): Number of training timesteps. Defaults to 100.\n",
    "    \n",
    "    Returns:\n",
    "        Trained agent\n",
    "    \"\"\"\n",
    "    try:\n",
    "        # Wrap environment with Monitor\n",
    "        log_dir = f\"logs/{agent_name}\"\n",
    "        os.makedirs(log_dir, exist_ok=True)\n",
    "        env = Monitor(environment, log_dir)\n",
    "            \n",
    "        # Set environment and learn\n",
    "        agent.set_env(env)\n",
    "        agent.learn(total_timesteps=timesteps)\n",
    "\n",
    "        # Get training results\n",
    "        training_results = {\n",
    "            'rewards': env.get_episode_rewards(),\n",
    "        }\n",
    "        \n",
    "        # Create directories for model and results\n",
    "        create_directory(f\"models/{agent_name}\")\n",
    "        \n",
    "        # Save model\n",
    "        agent.save(f\"models/{agent_name}/{environment_name}_model\")\n",
    "        \n",
    "        # Prepare and save training information\n",
    "        training_info = {\n",
    "            'agent_name': agent_name,\n",
    "            'environment_name': environment_name,\n",
    "            'stage': stage,\n",
    "            'total_timesteps': timesteps,\n",
    "            'training_results': training_results\n",
    "        }\n",
    "        save_pipeline_data(agent_name, \"train\", environment_name, training_info)\n",
    "        \n",
    "        logger.info(f\"Training completed for {agent_name} in {environment_name}\")\n",
    "        return agent\n",
    "    \n",
    "    except Exception as e:\n",
    "        logger.error(f\"Training failed for {agent_name} in {environment_name}: {e}\")\n",
    "        raise\n",
    "\n"
   ]
  },
  {
   "cell_type": "code",
   "execution_count": 10,
   "metadata": {},
   "outputs": [],
   "source": [
    "def test(agent, environment, agent_name, stage, environment_name, num_episodes=1):\n",
    "    test_results = []\n",
    "    total_rewards = []\n",
    "    total_collisions = 0\n",
    "    traffic_speeds = []\n",
    "\n",
    "    for episode in range(num_episodes):\n",
    "        try:\n",
    "            obs, info = environment.reset()\n",
    "            done = truncated = False\n",
    "            episode_reward = 0\n",
    "            episode_collisions = 0\n",
    "            episode_speeds = []\n",
    "\n",
    "            while not (done or truncated):\n",
    "                # Predict action using the agent\n",
    "                action, _states = agent.predict(obs, deterministic=True)\n",
    "                obs, reward, done, truncated, info = environment.step(action)\n",
    "\n",
    "                # Update reward\n",
    "                episode_reward += reward\n",
    "                \n",
    "                # Check for collisions\n",
    "                if info.get(\"crashed\", False):\n",
    "                    episode_collisions += 1\n",
    "\n",
    "                # Gather traffic speeds\n",
    "                current_speeds = [\n",
    "                    vehicle.speed\n",
    "                    for vehicle in environment.unwrapped.road.vehicles  # Use unwrapped\n",
    "                    if vehicle != environment.unwrapped.vehicle  # Exclude agent vehicle\n",
    "                ]\n",
    "                episode_speeds.extend(current_speeds)\n",
    "\n",
    "                # Optional rendering\n",
    "                environment.render()\n",
    "\n",
    "            environment.close()\n",
    "\n",
    "            # Collect data for this episode\n",
    "            total_rewards.append(episode_reward)\n",
    "            total_collisions += episode_collisions\n",
    "            traffic_speeds.extend(episode_speeds)\n",
    "\n",
    "            test_results.append({\n",
    "                'episode': episode,\n",
    "                'total_reward': episode_reward,\n",
    "                'collisions': episode_collisions,\n",
    "                'avg_speed': np.mean(episode_speeds) if episode_speeds else 0,\n",
    "                'speed_variance': np.var(episode_speeds) if episode_speeds else 0\n",
    "            })\n",
    "        \n",
    "        except Exception as e:\n",
    "            logger.error(f\"Test episode {episode + 1} failed in {environment_name}: {e}\")\n",
    "\n",
    "    # Calculate overall KPIs\n",
    "    avg_reward = np.mean(total_rewards)\n",
    "    avg_speed = np.mean(traffic_speeds) if traffic_speeds else 0\n",
    "    speed_variance = np.var(traffic_speeds) if traffic_speeds else 0\n",
    "\n",
    "    logger.info(f\"Test completed in {environment_name} - \"\n",
    "                f\"Avg Reward: {avg_reward}, Total Collisions: {total_collisions}, \"\n",
    "                f\"Avg Traffic Speed: {avg_speed}, Speed Variance: {speed_variance}\")\n",
    "\n",
    "    # Save test results and KPIs\n",
    "    save_pipeline_data(agent_name, stage, environment_name, {\n",
    "        'test_results': test_results,\n",
    "        'kpis': {\n",
    "            'average_reward': avg_reward,\n",
    "            'total_collisions': total_collisions,\n",
    "            'average_speed': avg_speed,\n",
    "            'speed_variance': speed_variance\n",
    "        },\n",
    "        'environment': environment_name,\n",
    "        'stage': stage\n",
    "    })\n",
    "\n",
    "    return {\n",
    "        'test_results': test_results,\n",
    "        'kpis': {\n",
    "            'average_reward': avg_reward,\n",
    "            'total_collisions': total_collisions,\n",
    "            'average_speed': avg_speed,\n",
    "            'speed_variance': speed_variance\n",
    "        }\n",
    "    }"
   ]
  },
  {
   "cell_type": "code",
   "execution_count": 11,
   "metadata": {},
   "outputs": [],
   "source": [
    "def rl_pipeline(initial_agent, agent_name, lane_changing_env, roundabout_env, overtaking_env):\n",
    "    \"\"\"\n",
    "    Sequential environment training pipeline\n",
    "    \n",
    "    Args:\n",
    "        initial_agent (sb3.BaseAlgorithm): Initial RL agent\n",
    "        agent_name (str): Name of the agent\n",
    "        lane_changing_env (gym.Env): Lane changing environment\n",
    "        roundabout_env (gym.Env): Roundabout environment\n",
    "        overtaking_env (gym.Env): Overtaking environment\n",
    "    \n",
    "    Returns:\n",
    "        Trained agent\n",
    "    \"\"\"\n",
    "    performance = {}\n",
    "\n",
    "    logger.info(\"Sequential Environment Pipeline Started\")\n",
    "    \n",
    "    # Stage 1: Lane Changing\n",
    "    logger.info(\"Stage 1: Lane Changing Environment\")\n",
    "    \n",
    "    # Train in Lane Changing\n",
    "    lane_changing_agent = train(\n",
    "        initial_agent, lane_changing_env, \n",
    "        agent_name, 'lane_changing', 'lane_changing'\n",
    "    )\n",
    "    \n",
    "    # Test in Lane Changing\n",
    "    performance[\"lane_changing\"] = test(\n",
    "        lane_changing_agent, lane_changing_env, \n",
    "        agent_name, 'pos_training_test', 'lane_changing'\n",
    "    )\n",
    "    \n",
    "    # Stage 2: Roundabout\n",
    "    logger.info(\"Stage 2: Roundabout Environment\")\n",
    "    \n",
    "    # First, test the lane changing agent in roundabout\n",
    "    performance[\"lane_changing_roundabout\"] = test(\n",
    "        lane_changing_agent, roundabout_env, \n",
    "        agent_name, 'pre_training_test', 'roundabout'\n",
    "    )\n",
    "    \n",
    "    # Then train in Roundabout\n",
    "    roundabout_agent = train(\n",
    "        lane_changing_agent, roundabout_env, \n",
    "        agent_name, 'roundabout', 'roundabout'\n",
    "    )\n",
    "    \n",
    "    # Test in Roundabout\n",
    "    performance[\"roundabout\"] = test(\n",
    "        roundabout_agent, roundabout_env, \n",
    "        agent_name, 'pos_training_test', 'roundabout'\n",
    "    )\n",
    "    \n",
    "    # Stage 3: Overtaking\n",
    "    logger.info(\"Stage 3: Overtaking Environment\")\n",
    "    \n",
    "    # First, test the roundabout agent in overtaking\n",
    "    performance[\"roundabout_overtaking\"] = test(\n",
    "        roundabout_agent, overtaking_env, \n",
    "        agent_name, 'pre_training_test', 'overtaking'\n",
    "    )\n",
    "    \n",
    "    # Then train in Overtaking\n",
    "    overtaking_agent = train(\n",
    "        roundabout_agent, overtaking_env, \n",
    "        agent_name, 'overtaking', 'overtaking'\n",
    "    )\n",
    "    \n",
    "    # Test in Overtaking\n",
    "    performance[\"overtaking\"] = test(\n",
    "        overtaking_agent, overtaking_env, \n",
    "        agent_name, 'pos_training_test', 'overtaking'\n",
    "    )\n",
    "    \n",
    "    logger.info(\"Sequential Environment Pipeline Completed\")\n",
    "\n",
    "    # Save the final agent\n",
    "    create_directory(f\"models/{agent_name}/final\")\n",
    "    overtaking_agent.save(f\"models/{agent_name}/{agent_name}_final_model\")\n",
    "    \n",
    "    return overtaking_agent, performance"
   ]
  },
  {
   "cell_type": "markdown",
   "metadata": {},
   "source": [
    "- ### Agent 1"
   ]
  },
  {
   "cell_type": "code",
   "execution_count": 135,
   "metadata": {},
   "outputs": [
    {
     "name": "stderr",
     "output_type": "stream",
     "text": [
      "2024-11-27 14:09:21,498 - INFO - Sequential Environment Pipeline Started\n",
      "2024-11-27 14:09:21,499 - INFO - Stage 1: Lane Changing Environment\n"
     ]
    },
    {
     "name": "stdout",
     "output_type": "stream",
     "text": [
      "Using cpu device\n",
      "Wrapping the env with a `Monitor` wrapper\n",
      "Wrapping the env in a DummyVecEnv.\n",
      "Wrapping the env in a DummyVecEnv.\n"
     ]
    },
    {
     "name": "stderr",
     "output_type": "stream",
     "text": [
      "2024-11-27 14:09:56,778 - INFO - Directory created: models/agent_DQN\n",
      "2024-11-27 14:09:56,785 - INFO - Directory created: results/agent_DQN\n",
      "2024-11-27 14:09:56,786 - INFO - Data saved for train in lane_changing\n",
      "2024-11-27 14:09:56,786 - INFO - Training completed for agent_DQN in lane_changing\n",
      "2024-11-27 14:10:15,733 - INFO - Test completed in lane_changing - Avg Reward: 17.116009871911153, Total Collisions: 0, Avg Traffic Speed: 20.929875051604423, Speed Variance: 1.218203343970156\n",
      "2024-11-27 14:10:15,734 - INFO - Directory created: results/agent_DQN\n",
      "2024-11-27 14:10:15,736 - INFO - Data saved for pos_training_test in lane_changing\n",
      "2024-11-27 14:10:15,738 - INFO - Stage 2: Roundabout Environment\n",
      "2024-11-27 14:10:19,628 - INFO - Test completed in roundabout - Avg Reward: 2.7727272727272725, Total Collisions: 1, Avg Traffic Speed: 14.570962810740308, Speed Variance: 2.9089537218699038\n",
      "2024-11-27 14:10:19,630 - INFO - Directory created: results/agent_DQN\n",
      "2024-11-27 14:10:19,632 - INFO - Data saved for pre_training_test in roundabout\n"
     ]
    },
    {
     "name": "stdout",
     "output_type": "stream",
     "text": [
      "Wrapping the env in a DummyVecEnv.\n"
     ]
    },
    {
     "name": "stderr",
     "output_type": "stream",
     "text": [
      "2024-11-27 14:10:25,090 - INFO - Directory created: models/agent_DQN\n",
      "2024-11-27 14:10:25,096 - INFO - Directory created: results/agent_DQN\n",
      "2024-11-27 14:10:25,097 - INFO - Data saved for train in roundabout\n",
      "2024-11-27 14:10:25,098 - INFO - Training completed for agent_DQN in roundabout\n",
      "2024-11-27 14:10:35,337 - INFO - Test completed in roundabout - Avg Reward: 11.09090909090909, Total Collisions: 0, Avg Traffic Speed: 15.41346263291739, Speed Variance: 1.9876690466336384\n",
      "2024-11-27 14:10:35,338 - INFO - Directory created: results/agent_DQN\n",
      "2024-11-27 14:10:35,340 - INFO - Data saved for pos_training_test in roundabout\n",
      "2024-11-27 14:10:35,341 - INFO - Stage 3: Overtaking Environment\n",
      "2024-11-27 14:10:54,516 - INFO - Test completed in overtaking - Avg Reward: 6.3999999999999995, Total Collisions: 0, Avg Traffic Speed: 20.734136222984855, Speed Variance: 1.507574867797725\n",
      "2024-11-27 14:10:54,518 - INFO - Directory created: results/agent_DQN\n",
      "2024-11-27 14:10:54,520 - INFO - Data saved for pre_training_test in overtaking\n"
     ]
    },
    {
     "name": "stdout",
     "output_type": "stream",
     "text": [
      "Wrapping the env in a DummyVecEnv.\n"
     ]
    },
    {
     "name": "stderr",
     "output_type": "stream",
     "text": [
      "2024-11-27 14:11:29,172 - INFO - Directory created: models/agent_DQN\n",
      "2024-11-27 14:11:29,179 - INFO - Directory created: results/agent_DQN\n",
      "2024-11-27 14:11:29,179 - INFO - Data saved for train in overtaking\n",
      "2024-11-27 14:11:29,180 - INFO - Training completed for agent_DQN in overtaking\n",
      "2024-11-27 14:11:50,866 - INFO - Test completed in overtaking - Avg Reward: 8.975132223632718, Total Collisions: 0, Avg Traffic Speed: 20.67047268649021, Speed Variance: 1.120284505734788\n",
      "2024-11-27 14:11:50,867 - INFO - Directory created: results/agent_DQN\n",
      "2024-11-27 14:11:50,868 - INFO - Data saved for pos_training_test in overtaking\n",
      "2024-11-27 14:11:50,869 - INFO - Sequential Environment Pipeline Completed\n",
      "2024-11-27 14:11:50,870 - INFO - Directory created: models/agent_DQN/final\n"
     ]
    }
   ],
   "source": [
    "# Execute the pipeline to agent 1\n",
    "\n",
    "# a1_results = pipeline(...)\n",
    "\n",
    "# Display Results\n",
    "\n",
    "agent_DQN = DQN('MlpPolicy', lane_changing_env,\n",
    "        policy_kwargs=dict(net_arch=[256, 256]),\n",
    "        learning_rate = 1e-4,\n",
    "        buffer_size=15000,\n",
    "        learning_starts=200,\n",
    "        batch_size=64,\n",
    "        gamma=0.8,\n",
    "        train_freq=1,\n",
    "        gradient_steps=1,\n",
    "        target_update_interval=50,\n",
    "        verbose=1)\n",
    "\n",
    "final_agent_DQN, performance = rl_pipeline(agent_DQN, 'agent_DQN', lane_changing_env, roundabout_env, overtaking_env)"
   ]
  },
  {
   "cell_type": "markdown",
   "metadata": {},
   "source": [
    "- ### Agent N"
   ]
  },
  {
   "cell_type": "markdown",
   "metadata": {},
   "source": [
    "## Performance"
   ]
  },
  {
   "cell_type": "code",
   "execution_count": 119,
   "metadata": {},
   "outputs": [],
   "source": [
    "# Display results\n",
    "def display_results(agent_name, type=\"table\"):\n",
    "    # Load results\n",
    "    results = {}\n",
    "    for stage in [\"lane_changing_pos_training_test\", \"roundabout_pre_training_test\", \"roundabout_pos_training_test\", \"overtaking_pre_training_test\", \"overtaking_pos_training_test\"]:\n",
    "        with open(f\"results/{agent_name}/{stage}_data.json\", 'r') as f:\n",
    "            results[stage] = json.load(f)\n",
    "\n",
    "    if type == \"list\":\n",
    "        print(f\"--- {agent_name} ---\\n\")\n",
    "        for stage, data in results.items():\n",
    "            print(f\"> {stage}\")\n",
    "            print(f\"    - Average Reward: {data['kpis']['average_reward']}\")\n",
    "            print(f\"    - Total Collisions: {data['kpis']['total_collisions']}\")\n",
    "            print(f\"    - Average Speed: {data['kpis']['average_speed']}\")\n",
    "            print(f\"    - Speed Variance: {data['kpis']['speed_variance']}\")\n",
    "            print(\"\")\n",
    "        print(\"--------------------\\n\")\n",
    "    elif type == \"table\":\n",
    "        table = []\n",
    "        for stage, data in results.items():\n",
    "            table.append([stage, data['kpis']['average_reward'], data['kpis']['total_collisions'], data['kpis']['average_speed'], data['kpis']['speed_variance']])\n",
    "        table = np.array(table)\n",
    "\n",
    "        print(\"|\".join([f\"{\"[\"+str(agent_name)+\"]\":<20} {str(\"Stage\"):>10} \", \"Average Reward\".center(20), \"Total Collisions\".center(20), \"Average Speed\".center(20), \"Speed Variance\".center(20)]))\n",
    "        print(\"=\" * 117)\n",
    "        for row in table:\n",
    "            formatted_row = [\n",
    "                f\"{str(row[0]):>31} \",    # Stage (left aligned)\n",
    "                f\"{str(row[1]):^20}\",    # Average Reward (center aligned)\n",
    "                f\"{str(row[2]):^20}\",    # Total Collisions (center aligned)\n",
    "                f\"{str(row[3]):^20}\",    # Average Speed (center aligned)\n",
    "                f\"{str(row[4]):^20}\",     # Speed Variance (center aligned)\n",
    "            ]\n",
    "            print(\"|\".join(formatted_row))\n",
    "            print(\"-\" * 117)\n",
    "        print(\"\\n\")\n",
    "        "
   ]
  },
  {
   "cell_type": "code",
   "execution_count": 136,
   "metadata": {},
   "outputs": [
    {
     "name": "stdout",
     "output_type": "stream",
     "text": [
      "[agent_DQN]               Stage |   Average Reward   |  Total Collisions  |   Average Speed    |   Speed Variance   \n",
      "=====================================================================================================================\n",
      "lane_changing_pos_training_test | 17.116009871911153 |         0          | 20.929875051604423 | 1.218203343970156  \n",
      "---------------------------------------------------------------------------------------------------------------------\n",
      "   roundabout_pre_training_test | 2.7727272727272725 |         1          | 14.570962810740308 | 2.9089537218699038 \n",
      "---------------------------------------------------------------------------------------------------------------------\n",
      "   roundabout_pos_training_test | 11.09090909090909  |         0          | 15.41346263291739  | 1.9876690466336384 \n",
      "---------------------------------------------------------------------------------------------------------------------\n",
      "   overtaking_pre_training_test | 6.3999999999999995 |         0          | 20.734136222984855 | 1.507574867797725  \n",
      "---------------------------------------------------------------------------------------------------------------------\n",
      "   overtaking_pos_training_test | 8.975132223632718  |         0          | 20.67047268649021  | 1.120284505734788  \n",
      "---------------------------------------------------------------------------------------------------------------------\n",
      "\n",
      "\n"
     ]
    }
   ],
   "source": [
    "display_results(\"agent_DQN\")"
   ]
  },
  {
   "cell_type": "markdown",
   "metadata": {},
   "source": [
    "## Analysis"
   ]
  },
  {
   "cell_type": "markdown",
   "metadata": {},
   "source": [
    "## Conclusion"
   ]
  }
 ],
 "metadata": {
  "kernelspec": {
   "display_name": "Python 3",
   "language": "python",
   "name": "python3"
  },
  "language_info": {
   "codemirror_mode": {
    "name": "ipython",
    "version": 3
   },
   "file_extension": ".py",
   "mimetype": "text/x-python",
   "name": "python",
   "nbconvert_exporter": "python",
   "pygments_lexer": "ipython3",
   "version": "3.12.3"
  }
 },
 "nbformat": 4,
 "nbformat_minor": 2
}
