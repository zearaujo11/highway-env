{
 "cells": [
  {
   "cell_type": "markdown",
   "metadata": {},
   "source": [
    "# RL for Autonomous Vehicle Tasks: Safety and Traffic Optimization"
   ]
  },
  {
   "cell_type": "markdown",
   "metadata": {},
   "source": [
    "## Agents"
   ]
  },
  {
   "cell_type": "code",
   "execution_count": null,
   "metadata": {},
   "outputs": [],
   "source": [
    "# TODO: define agents here"
   ]
  },
  {
   "cell_type": "markdown",
   "metadata": {},
   "source": [
    "## Scenarios"
   ]
  },
  {
   "cell_type": "code",
   "execution_count": null,
   "metadata": {},
   "outputs": [],
   "source": [
    "import gymnasium\n",
    "import highway_env\n",
    "from matplotlib import pyplot as plt\n",
    "%matplotlib inline\n",
    "from stable_baselines3 import DQN\n",
    "import logging\n",
    "import json\n",
    "import os\n",
    "import numpy as np"
   ]
  },
  {
   "cell_type": "markdown",
   "metadata": {},
   "source": [
    "### Lane Changing"
   ]
  },
  {
   "cell_type": "code",
   "execution_count": null,
   "metadata": {},
   "outputs": [],
   "source": [
    "lane_changing_env = gymnasium.make('highway-v0', render_mode='rgb_array')\n",
    "config = {\n",
    "    \"vehicles_count\": 50,  # Number of vehicles in the environment\n",
    "    \"controlled_vehicles\": 1,  # Number of vehicles controlled by the agent\n",
    "    \"duration\": 40,  # Duration of each episode\n",
    "    \"reverse_penalty\": -10,  # Large penalty for reversing\n",
    "    \"drifting_penalty\": -5,  # Penalty for drifting or sharp turns\n",
    "    \"collision_reward\": -2,  # Stronger penalty for collisions\n",
    "    \"off_road_penalty\": -10,  # Penalize for going off-road\n",
    "    \"lane_change_reward\": 0.1,  # Reward for staying in lane\n",
    "    \"reward_speed_range\": [10, 30],  # Reward only within this speed range\n",
    "    \"simulation_frequency\": 15,  # Lower simulation speed to avoid erratic behavior\n",
    "    \"policy_frequency\": 1,  # Fewer policy updates per second\n",
    "    \"screen_width\": 600,\n",
    "    \"screen_height\": 400,\n",
    "    \"offscreen_rendering\": False,\n",
    "    \"show_trajectories\": True,\n",
    "    \"action\": {\n",
    "        \"type\": \"DiscreteAction\"  # Discrete control (steer left, right, accelerate)\n",
    "    },\n",
    "}\n",
    "\n",
    "lane_changing_env.unwrapped.configure(config)\n",
    "lane_changing_env.reset()"
   ]
  },
  {
   "cell_type": "markdown",
   "metadata": {},
   "source": [
    "### Roundabout"
   ]
  },
  {
   "cell_type": "code",
   "execution_count": null,
   "metadata": {},
   "outputs": [],
   "source": [
    "roundabout_env = gymnasium.make('roundabout-v0', render_mode='rgb_array')\n",
    "config = {\n",
    "    \"vehicles_count\": 50,  # Number of vehicles in the environment\n",
    "    \"controlled_vehicles\": 1,  # Number of vehicles controlled by the agent\n",
    "    \"duration\": 40,  # Duration of each episode\n",
    "    \"reverse_penalty\": -10,  # Large penalty for reversing\n",
    "    \"drifting_penalty\": -5,  # Penalty for drifting or sharp turns\n",
    "    \"collision_reward\": -2,  # Stronger penalty for collisions\n",
    "    \"off_road_penalty\": -10,  # Penalize for going off-road\n",
    "    \"lane_change_reward\": 0.1,  # Reward for staying in lane\n",
    "    \"reward_speed_range\": [10, 30],  # Reward only within this speed range\n",
    "    \"simulation_frequency\": 15,  # Lower simulation speed to avoid erratic behavior\n",
    "    \"policy_frequency\": 1,  # Fewer policy updates per second\n",
    "    \"screen_width\": 600,\n",
    "    \"screen_height\": 400,\n",
    "    \"offscreen_rendering\": False,\n",
    "    \"show_trajectories\": True,\n",
    "    \"action\": {\n",
    "        \"type\": \"DiscreteAction\"  # Discrete control (steer left, right, accelerate)\n",
    "    },\n",
    "}\n",
    "roundabout_env.unwrapped.configure(config)\n",
    "roundabout_env.reset()"
   ]
  },
  {
   "cell_type": "markdown",
   "metadata": {},
   "source": [
    "### Overtaking"
   ]
  },
  {
   "cell_type": "code",
   "execution_count": null,
   "metadata": {},
   "outputs": [],
   "source": [
    "overtaking_env = gymnasium.make('highway-v0', render_mode='rgb_array')\n",
    "config = {\n",
    "    \"vehicles_count\": 50,  # Number of vehicles in the environment\n",
    "    \"controlled_vehicles\": 1,  # Number of vehicles controlled by the agent\n",
    "    \"duration\": 40,  # Duration of each episode\n",
    "    \"reverse_penalty\": -10,  # Large penalty for reversing\n",
    "    \"drifting_penalty\": -5,  # Penalty for drifting or sharp turns\n",
    "    \"collision_reward\": -2,  # Stronger penalty for collisions\n",
    "    \"off_road_penalty\": -10,  # Penalize for going off-road\n",
    "    \"lane_change_reward\": 0.1,  # Reward for staying in lane\n",
    "    \"reward_speed_range\": [10, 30],  # Reward only within this speed range\n",
    "    \"simulation_frequency\": 15,  # Lower simulation speed to avoid erratic behavior\n",
    "    \"policy_frequency\": 1,  # Fewer policy updates per second\n",
    "    \"screen_width\": 600,\n",
    "    \"screen_height\": 400,\n",
    "    \"offscreen_rendering\": False,\n",
    "    \"show_trajectories\": True,\n",
    "    \"action\": {\n",
    "        \"type\": \"DiscreteAction\"  # Discrete control (steer left, right, accelerate)\n",
    "    },\n",
    "}\n",
    "overtaking_env.unwrapped.configure(config)\n",
    "overtaking_env.reset()"
   ]
  },
  {
   "cell_type": "markdown",
   "metadata": {},
   "source": [
    "## Training and Testing"
   ]
  },
  {
   "cell_type": "code",
   "execution_count": null,
   "metadata": {},
   "outputs": [],
   "source": [
    "# Configure logging\n",
    "logging.basicConfig(level=logging.INFO, format='%(asctime)s - %(levelname)s - %(message)s')\n",
    "logger = logging.getLogger(__name__)\n",
    "\n",
    "def create_directory(path):\n",
    "    \"\"\"\n",
    "    Create directory if it doesn't exist\n",
    "    \n",
    "    Args:\n",
    "        path (str): Directory path to create\n",
    "    \"\"\"\n",
    "    try:\n",
    "        os.makedirs(path, exist_ok=True)\n",
    "        logger.info(f\"Directory created: {path}\")\n",
    "    except Exception as e:\n",
    "        logger.error(f\"Error creating directory {path}: {e}\")\n",
    "\n",
    "def save_pipeline_data(agent_name, stage, environment_name, data):\n",
    "    \"\"\"\n",
    "    Save pipeline stage data\n",
    "    \n",
    "    Args:\n",
    "        agent_name (str): Name of the RL agent\n",
    "        stage (str): Current pipeline stage\n",
    "        environment_name (str): Name of the environment\n",
    "        data (dict): Data to be saved\n",
    "    \"\"\"\n",
    "    create_directory(f\"results/{agent_name}\")\n",
    "    \n",
    "    try:\n",
    "        filename = f\"results/{agent_name}/{environment_name + \"_\" + stage}_data.json\"\n",
    "        with open(filename, 'w') as f:\n",
    "            json.dump(data, f, indent=4)\n",
    "        logger.info(f\"Data saved for {stage} in {environment_name}\")\n",
    "    except Exception as e:\n",
    "        logger.error(f\"Error saving data: {e}\")"
   ]
  },
  {
   "cell_type": "code",
   "execution_count": null,
   "metadata": {},
   "outputs": [],
   "source": [
    "def train(agent, environment, agent_name, stage, environment_name, timesteps=1000):\n",
    "    \"\"\"\n",
    "    Train the agent in a specific environment and save the model\n",
    "    \n",
    "    Args:\n",
    "        agent (sb3.BaseAlgorithm): RL agent to train\n",
    "        environment (gym.Env): Environment to train in\n",
    "        agent_name (str): Name of the agent\n",
    "        stage (str): Current pipeline stage\n",
    "        environment_name (str): Name of the environment\n",
    "        timesteps (int, optional): Number of training timesteps. Defaults to 100.\n",
    "    \n",
    "    Returns:\n",
    "        Trained agent\n",
    "    \"\"\"\n",
    "    try:\n",
    "        # Set environment and learn\n",
    "        agent.set_env(environment)\n",
    "        training_results = agent.learn(total_timesteps=timesteps)\n",
    "        \n",
    "        # Create directories for model and results\n",
    "        create_directory(f\"models/{agent_name}\")\n",
    "        \n",
    "        # Save model\n",
    "        agent.save(f\"models/{agent_name}/{environment_name}_model\")\n",
    "        \n",
    "        # Prepare and save training information\n",
    "        training_info = {\n",
    "            'agent_name': agent_name,\n",
    "            'environment_name': environment_name,\n",
    "            'stage': stage,\n",
    "            'total_timesteps': timesteps,\n",
    "            'training_results': str(training_results)\n",
    "        }\n",
    "        save_pipeline_data(agent_name, \"train\", environment_name, training_info)\n",
    "        \n",
    "        logger.info(f\"Training completed for {agent_name} in {environment_name}\")\n",
    "        return agent\n",
    "    \n",
    "    except Exception as e:\n",
    "        logger.error(f\"Training failed for {agent_name} in {environment_name}: {e}\")\n",
    "        raise\n",
    "\n"
   ]
  },
  {
   "cell_type": "code",
   "execution_count": null,
   "metadata": {},
   "outputs": [],
   "source": [
    "def test(agent, environment, agent_name, stage, environment_name, num_episodes=3):\n",
    "    test_results = []\n",
    "    total_rewards = []\n",
    "    total_collisions = 0\n",
    "    traffic_speeds = []\n",
    "\n",
    "    for episode in range(num_episodes):\n",
    "        try:\n",
    "            obs, info = environment.reset()\n",
    "            done = truncated = False\n",
    "            episode_reward = 0\n",
    "            episode_collisions = 0\n",
    "            episode_speeds = []\n",
    "\n",
    "            while not (done or truncated):\n",
    "                # Predict action using the agent\n",
    "                action, _states = agent.predict(obs, deterministic=True)\n",
    "                obs, reward, done, truncated, info = environment.step(action)\n",
    "\n",
    "                # Update reward\n",
    "                episode_reward += reward\n",
    "                \n",
    "                # Check for collisions\n",
    "                if info.get(\"crashed\", False):\n",
    "                    episode_collisions += 1\n",
    "\n",
    "                # Gather traffic speeds\n",
    "                current_speeds = [\n",
    "                    vehicle.speed\n",
    "                    for vehicle in environment.unwrapped.road.vehicles  # Use unwrapped\n",
    "                    if vehicle != environment.unwrapped.vehicle  # Exclude agent vehicle\n",
    "                ]\n",
    "                episode_speeds.extend(current_speeds)\n",
    "\n",
    "                # Optional rendering\n",
    "                environment.render()\n",
    "\n",
    "            environment.close()\n",
    "\n",
    "            # Collect data for this episode\n",
    "            total_rewards.append(episode_reward)\n",
    "            total_collisions += episode_collisions\n",
    "            traffic_speeds.extend(episode_speeds)\n",
    "\n",
    "            test_results.append({\n",
    "                'episode': episode,\n",
    "                'total_reward': episode_reward,\n",
    "                'collisions': episode_collisions,\n",
    "                'avg_speed': np.mean(episode_speeds) if episode_speeds else 0,\n",
    "                'speed_variance': np.var(episode_speeds) if episode_speeds else 0\n",
    "            })\n",
    "        \n",
    "        except Exception as e:\n",
    "            logger.error(f\"Test episode {episode + 1} failed in {environment_name}: {e}\")\n",
    "\n",
    "    # Calculate overall KPIs\n",
    "    avg_reward = np.mean(total_rewards)\n",
    "    avg_speed = np.mean(traffic_speeds) if traffic_speeds else 0\n",
    "    speed_variance = np.var(traffic_speeds) if traffic_speeds else 0\n",
    "\n",
    "    logger.info(f\"Test completed in {environment_name} - \"\n",
    "                f\"Avg Reward: {avg_reward}, Total Collisions: {total_collisions}, \"\n",
    "                f\"Avg Traffic Speed: {avg_speed}, Speed Variance: {speed_variance}\")\n",
    "\n",
    "    # Save test results and KPIs\n",
    "    save_pipeline_data(agent_name, stage, environment_name, {\n",
    "        'test_results': test_results,\n",
    "        'kpis': {\n",
    "            'average_reward': avg_reward,\n",
    "            'total_collisions': total_collisions,\n",
    "            'average_speed': avg_speed,\n",
    "            'speed_variance': speed_variance\n",
    "        },\n",
    "        'environment': environment_name,\n",
    "        'stage': stage\n",
    "    })\n",
    "\n",
    "    return {\n",
    "        'test_results': test_results,\n",
    "        'kpis': {\n",
    "            'average_reward': avg_reward,\n",
    "            'total_collisions': total_collisions,\n",
    "            'average_speed': avg_speed,\n",
    "            'speed_variance': speed_variance\n",
    "        }\n",
    "    }"
   ]
  },
  {
   "cell_type": "code",
   "execution_count": null,
   "metadata": {},
   "outputs": [],
   "source": [
    "def rl_pipeline(initial_agent, agent_name, lane_changing_env, roundabout_env, overtaking_env):\n",
    "    \"\"\"\n",
    "    Sequential environment training pipeline\n",
    "    \n",
    "    Args:\n",
    "        initial_agent (sb3.BaseAlgorithm): Initial RL agent\n",
    "        agent_name (str): Name of the agent\n",
    "        lane_changing_env (gym.Env): Lane changing environment\n",
    "        roundabout_env (gym.Env): Roundabout environment\n",
    "        overtaking_env (gym.Env): Overtaking environment\n",
    "    \n",
    "    Returns:\n",
    "        Trained agent\n",
    "    \"\"\"\n",
    "    performance = {}\n",
    "\n",
    "    logger.info(\"Sequential Environment Pipeline Started\")\n",
    "    \n",
    "    # Stage 1: Lane Changing\n",
    "    logger.info(\"Stage 1: Lane Changing Environment\")\n",
    "    \n",
    "    # Train in Lane Changing\n",
    "    lane_changing_agent = train(\n",
    "        initial_agent, lane_changing_env, \n",
    "        agent_name, 'lane_changing', 'lane_changing'\n",
    "    )\n",
    "    \n",
    "    # Test in Lane Changing\n",
    "    performance[\"lane_changing\"] = test(\n",
    "        lane_changing_agent, lane_changing_env, \n",
    "        agent_name, 'pos_training_test', 'lane_changing'\n",
    "    )\n",
    "    \n",
    "    # Stage 2: Roundabout\n",
    "    logger.info(\"Stage 2: Roundabout Environment\")\n",
    "    \n",
    "    # First, test the lane changing agent in roundabout\n",
    "    performance[\"lane_changing_roundabout\"] = test(\n",
    "        lane_changing_agent, roundabout_env, \n",
    "        agent_name, 'pre_training_test', 'roundabout'\n",
    "    )\n",
    "    \n",
    "    # Then train in Roundabout\n",
    "    roundabout_agent = train(\n",
    "        lane_changing_agent, roundabout_env, \n",
    "        agent_name, 'roundabout', 'roundabout'\n",
    "    )\n",
    "    \n",
    "    # Test in Roundabout\n",
    "    performance[\"roundabout\"] = test(\n",
    "        roundabout_agent, roundabout_env, \n",
    "        agent_name, 'pos_training_test', 'roundabout'\n",
    "    )\n",
    "    \n",
    "    # Stage 3: Overtaking\n",
    "    logger.info(\"Stage 3: Overtaking Environment\")\n",
    "    \n",
    "    # First, test the roundabout agent in overtaking\n",
    "    performance[\"roundabout_overtaking\"] = test(\n",
    "        roundabout_agent, overtaking_env, \n",
    "        agent_name, 'pre_training_test', 'overtaking'\n",
    "    )\n",
    "    \n",
    "    # Then train in Overtaking\n",
    "    overtaking_agent = train(\n",
    "        roundabout_agent, overtaking_env, \n",
    "        agent_name, 'overtaking', 'overtaking'\n",
    "    )\n",
    "    \n",
    "    # Test in Overtaking\n",
    "    performance[\"overtaking\"] = test(\n",
    "        overtaking_agent, overtaking_env, \n",
    "        agent_name, 'pos_training_test', 'overtaking'\n",
    "    )\n",
    "    \n",
    "    logger.info(\"Sequential Environment Pipeline Completed\")\n",
    "\n",
    "    # Save the final agent\n",
    "    create_directory(f\"models/{agent_name}/final\")\n",
    "    overtaking_agent.save(f\"models/{agent_name}/{agent_name}_final_model\")\n",
    "    \n",
    "    return overtaking_agent, performance"
   ]
  },
  {
   "cell_type": "markdown",
   "metadata": {},
   "source": [
    "- ### Agent 1"
   ]
  },
  {
   "cell_type": "code",
   "execution_count": null,
   "metadata": {},
   "outputs": [],
   "source": [
    "# Execute the pipeline to agent 1\n",
    "\n",
    "# a1_results = pipeline(...)\n",
    "\n",
    "# Display Results\n",
    "\n",
    "agent_DQN = DQN('MlpPolicy', lane_changing_env,\n",
    "        policy_kwargs=dict(net_arch=[256, 256]),\n",
    "        learning_rate = 1e-4,\n",
    "        buffer_size=15000,\n",
    "        learning_starts=200,\n",
    "        batch_size=64,\n",
    "        gamma=0.8,\n",
    "        train_freq=1,\n",
    "        gradient_steps=1,\n",
    "        target_update_interval=50,\n",
    "        verbose=1)\n",
    "\n",
    "final_agent_DQN, performance = rl_pipeline(agent_DQN, 'agent_DQN', lane_changing_env, roundabout_env, overtaking_env)"
   ]
  },
  {
   "cell_type": "markdown",
   "metadata": {},
   "source": [
    "- ### Agent N"
   ]
  },
  {
   "cell_type": "markdown",
   "metadata": {},
   "source": [
    "## Performance"
   ]
  },
  {
   "cell_type": "code",
   "execution_count": null,
   "metadata": {},
   "outputs": [],
   "source": [
    "print(performance)"
   ]
  },
  {
   "cell_type": "code",
   "execution_count": null,
   "metadata": {},
   "outputs": [],
   "source": [
    "# lane changing performance\n",
    "lane_changing_performance = performance[\"lane_changing\"]\n",
    "\n",
    "print(\"Lane Changing Performance\")\n",
    "print(\"Average Reward: \", lane_changing_performance[\"kpis\"][\"average_reward\"])\n",
    "print(\"Total Collisions: \", lane_changing_performance[\"kpis\"][\"total_collisions\"])\n",
    "print(\"Average Speed: \", lane_changing_performance[\"kpis\"][\"average_speed\"])\n",
    "print(\"Speed Variance: \", lane_changing_performance[\"kpis\"][\"speed_variance\"])\n",
    "print(\"\\n\")"
   ]
  },
  {
   "cell_type": "code",
   "execution_count": null,
   "metadata": {},
   "outputs": [],
   "source": [
    "# lane changing roundabout performance\n",
    "lane_changing_roundabout_performance = performance[\"lane_changing_roundabout\"]\n",
    "\n",
    "print(\"Lane Changing Roundabout Performance\")\n",
    "print(\"Average Reward: \", lane_changing_roundabout_performance[\"kpis\"][\"average_reward\"])\n",
    "print(\"Total Collisions: \", lane_changing_roundabout_performance[\"kpis\"][\"total_collisions\"])\n",
    "print(\"Average Speed: \", lane_changing_roundabout_performance[\"kpis\"][\"average_speed\"])\n",
    "print(\"Speed Variance: \", lane_changing_roundabout_performance[\"kpis\"][\"speed_variance\"])\n",
    "print(\"\\n\")"
   ]
  },
  {
   "cell_type": "code",
   "execution_count": null,
   "metadata": {},
   "outputs": [],
   "source": [
    "# roundabout performance\n",
    "roundabout_performance = performance[\"roundabout\"]\n",
    "\n",
    "print(\"Roundabout Performance\")\n",
    "print(\"Average Reward: \", roundabout_performance[\"kpis\"][\"average_reward\"])\n",
    "print(\"Total Collisions: \", roundabout_performance[\"kpis\"][\"total_collisions\"])\n",
    "print(\"Average Speed: \", roundabout_performance[\"kpis\"][\"average_speed\"])\n",
    "print(\"Speed Variance: \", roundabout_performance[\"kpis\"][\"speed_variance\"])\n",
    "print(\"\\n\")"
   ]
  },
  {
   "cell_type": "code",
   "execution_count": null,
   "metadata": {},
   "outputs": [],
   "source": [
    "# roundabout overtaking performance\n",
    "roundabout_overtaking_performance = performance[\"roundabout_overtaking\"]\n",
    "\n",
    "print(\"Roundabout Overtaking Performance\")\n",
    "print(\"Average Reward: \", roundabout_overtaking_performance[\"kpis\"][\"average_reward\"])\n",
    "print(\"Total Collisions: \", roundabout_overtaking_performance[\"kpis\"][\"total_collisions\"])\n",
    "print(\"Average Speed: \", roundabout_overtaking_performance[\"kpis\"][\"average_speed\"])\n",
    "print(\"Speed Variance: \", roundabout_overtaking_performance[\"kpis\"][\"speed_variance\"])\n",
    "print(\"\\n\")"
   ]
  },
  {
   "cell_type": "code",
   "execution_count": null,
   "metadata": {},
   "outputs": [],
   "source": [
    "# overtaking performance\n",
    "overtaking_performance = performance[\"overtaking\"]\n",
    "\n",
    "print(\"Overtaking Performance\")\n",
    "print(\"Average Reward: \", overtaking_performance[\"kpis\"][\"average_reward\"])\n",
    "print(\"Total Collisions: \", overtaking_performance[\"kpis\"][\"total_collisions\"])\n",
    "print(\"Average Speed: \", overtaking_performance[\"kpis\"][\"average_speed\"])\n",
    "print(\"Speed Variance: \", overtaking_performance[\"kpis\"][\"speed_variance\"])\n",
    "print(\"\\n\")"
   ]
  },
  {
   "cell_type": "markdown",
   "metadata": {},
   "source": [
    "## Analysis"
   ]
  },
  {
   "cell_type": "markdown",
   "metadata": {},
   "source": [
    "## Conclusion"
   ]
  }
 ],
 "metadata": {
  "kernelspec": {
   "display_name": "Python 3",
   "language": "python",
   "name": "python3"
  },
  "language_info": {
   "codemirror_mode": {
    "name": "ipython",
    "version": 3
   },
   "file_extension": ".py",
   "mimetype": "text/x-python",
   "name": "python",
   "nbconvert_exporter": "python",
   "pygments_lexer": "ipython3",
   "version": "3.12.3"
  }
 },
 "nbformat": 4,
 "nbformat_minor": 2
}
